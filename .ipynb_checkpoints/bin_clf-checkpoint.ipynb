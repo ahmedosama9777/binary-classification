{
 "cells": [
  {
   "cell_type": "code",
   "execution_count": 1,
   "metadata": {},
   "outputs": [
    {
     "ename": "ModuleNotFoundError",
     "evalue": "No module named 'pandas'",
     "output_type": "error",
     "traceback": [
      "\u001b[0;31m---------------------------------------------------------------------------\u001b[0m",
      "\u001b[0;31mModuleNotFoundError\u001b[0m                       Traceback (most recent call last)",
      "\u001b[0;32m<ipython-input-1-e6ddaa726b8a>\u001b[0m in \u001b[0;36m<module>\u001b[0;34m()\u001b[0m\n\u001b[1;32m      1\u001b[0m \u001b[0;32mimport\u001b[0m \u001b[0mnumpy\u001b[0m \u001b[0;32mas\u001b[0m \u001b[0mnp\u001b[0m\u001b[0;34m\u001b[0m\u001b[0;34m\u001b[0m\u001b[0m\n\u001b[0;32m----> 2\u001b[0;31m \u001b[0;32mimport\u001b[0m \u001b[0mpandas\u001b[0m \u001b[0;32mas\u001b[0m \u001b[0mpd\u001b[0m\u001b[0;34m\u001b[0m\u001b[0;34m\u001b[0m\u001b[0m\n\u001b[0m\u001b[1;32m      3\u001b[0m \u001b[0;32mimport\u001b[0m \u001b[0mmatplotlib\u001b[0m \u001b[0;32mas\u001b[0m \u001b[0mplt\u001b[0m\u001b[0;34m\u001b[0m\u001b[0;34m\u001b[0m\u001b[0m\n\u001b[1;32m      4\u001b[0m \u001b[0;32mimport\u001b[0m \u001b[0mmatplotlib\u001b[0m\u001b[0;34m.\u001b[0m\u001b[0mpyplot\u001b[0m \u001b[0;32mas\u001b[0m \u001b[0mplt\u001b[0m\u001b[0;34m\u001b[0m\u001b[0;34m\u001b[0m\u001b[0m\n\u001b[1;32m      5\u001b[0m \u001b[0;32mfrom\u001b[0m \u001b[0mtime\u001b[0m \u001b[0;32mimport\u001b[0m \u001b[0mtime\u001b[0m\u001b[0;34m\u001b[0m\u001b[0;34m\u001b[0m\u001b[0m\n",
      "\u001b[0;31mModuleNotFoundError\u001b[0m: No module named 'pandas'"
     ]
    }
   ],
   "source": [
    "import numpy as np\n",
    "import pandas as pd\n",
    "import matplotlib as plt\n",
    "import matplotlib.pyplot as plt\n",
    "from time import time\n",
    "from IPython.display import display\n",
    "%matplotlib inline\n",
    "from sklearn.metrics import confusion_matrix\n",
    "from sklearn.linear_model import LogisticRegression\n",
    "import seaborn as sns\n",
    "from sklearn.model_selection import GridSearchCV\n",
    "sns.set(style=\"white\") #white background style for seaborn plots\n",
    "sns.set(style=\"whitegrid\", color_codes=True)\n",
    "import warnings\n",
    "warnings.filterwarnings(\"ignore\", category=DeprecationWarning)\n",
    "def warn(*args, **kwargs):\n",
    "    pass\n",
    "import warnings\n",
    "warnings.warn = warn\n"
   ]
  },
  {
   "cell_type": "markdown",
   "metadata": {},
   "source": [
    "# Load the Data"
   ]
  },
  {
   "cell_type": "code",
   "execution_count": 2,
   "metadata": {
    "scrolled": true
   },
   "outputs": [
    {
     "data": {
      "text/plain": [
       "(3700, 18)"
      ]
     },
     "execution_count": 2,
     "metadata": {},
     "output_type": "execute_result"
    }
   ],
   "source": [
    "data = pd.read_csv('training.csv')\n",
    "target_raw = data['classLabel'].eq('yes.').mul(1)\n",
    "data = data.drop('classLabel',axis=1)\n",
    "data.shape"
   ]
  },
  {
   "cell_type": "code",
   "execution_count": 3,
   "metadata": {},
   "outputs": [
    {
     "data": {
      "text/plain": [
       "(200, 18)"
      ]
     },
     "execution_count": 3,
     "metadata": {},
     "output_type": "execute_result"
    }
   ],
   "source": [
    "validation_data= pd.read_csv('validation.csv')\n",
    "v_target_raw = validation_data['classLabel'].eq('yes.').mul(1)\n",
    "v_data = validation_data.drop('classLabel',axis=1)\n",
    "v_data.shape"
   ]
  },
  {
   "cell_type": "code",
   "execution_count": 4,
   "metadata": {},
   "outputs": [
    {
     "data": {
      "text/plain": [
       "variable1       3\n",
       "variable2       3\n",
       "variable3       0\n",
       "variable4       2\n",
       "variable5       2\n",
       "variable6       3\n",
       "variable7       3\n",
       "variable8       0\n",
       "variable9       0\n",
       "variable10      0\n",
       "variable11      0\n",
       "variable12      0\n",
       "variable13      0\n",
       "variable14      3\n",
       "variable15      0\n",
       "variable17      3\n",
       "variable18    111\n",
       "variable19      0\n",
       "dtype: int64"
      ]
     },
     "execution_count": 4,
     "metadata": {},
     "output_type": "execute_result"
    }
   ],
   "source": [
    "v_data.isnull().sum()"
   ]
  },
  {
   "cell_type": "markdown",
   "metadata": {},
   "source": [
    "## Check if there's too much missing values \n",
    "### And replace them / drop"
   ]
  },
  {
   "cell_type": "code",
   "execution_count": 5,
   "metadata": {},
   "outputs": [
    {
     "data": {
      "text/plain": [
       "variable1       39\n",
       "variable2       39\n",
       "variable3        0\n",
       "variable4       64\n",
       "variable5       64\n",
       "variable6       66\n",
       "variable7       66\n",
       "variable8        0\n",
       "variable9        0\n",
       "variable10       0\n",
       "variable11       0\n",
       "variable12       0\n",
       "variable13       0\n",
       "variable14     100\n",
       "variable15       0\n",
       "variable17     100\n",
       "variable18    2145\n",
       "variable19       0\n",
       "dtype: int64"
      ]
     },
     "execution_count": 5,
     "metadata": {},
     "output_type": "execute_result"
    }
   ],
   "source": [
    "# Drop Variable18 because it has too much nulls \n",
    "data.isnull().sum()"
   ]
  },
  {
   "cell_type": "code",
   "execution_count": 6,
   "metadata": {},
   "outputs": [
    {
     "name": "stdout",
     "output_type": "stream",
     "text": [
      "Percent of missing \"variable18\" records is 57.97%\n"
     ]
    }
   ],
   "source": [
    "print('Percent of missing \"variable18\" records is %.2f%%' %((data['variable18'].isnull().sum()/data.shape[0])*100))"
   ]
  },
  {
   "cell_type": "markdown",
   "metadata": {},
   "source": [
    "~ 58% of variable18 values are missing "
   ]
  },
  {
   "cell_type": "code",
   "execution_count": 7,
   "metadata": {},
   "outputs": [],
   "source": [
    "# drop variable 18 MANY NULLS \n",
    "data = data.drop('variable18' , axis = 1)\n",
    "v_data = v_data.drop('variable18', axis=1)"
   ]
  },
  {
   "cell_type": "code",
   "execution_count": 8,
   "metadata": {
    "scrolled": true
   },
   "outputs": [],
   "source": [
    "def print_missing_precent(data):\n",
    "    print('Percent of missing \"variable1\" and \"\"variable2\"\" records is %.2f%%' %((data['variable1'].isnull().sum()/data.shape[0])*100))\n",
    "    print('Percent of missing \"variable4\" and \"variable5\" records is %.2f%%' %((data['variable4'].isnull().sum()/data.shape[0])*100))\n",
    "    print('Percent of missing \"variable6\" \"variable7\" records is %.2f%%' %((data['variable6'].isnull().sum()/data.shape[0])*100))\n",
    "    print('Percent of missing \"variable14\" and \"variable17\" records is %.2f%%' %((data['variable14'].isnull().sum()/data.shape[0])*100))"
   ]
  },
  {
   "cell_type": "code",
   "execution_count": 9,
   "metadata": {},
   "outputs": [
    {
     "name": "stdout",
     "output_type": "stream",
     "text": [
      "Percent of missing \"variable1\" and \"\"variable2\"\" records is 1.05%\n",
      "Percent of missing \"variable4\" and \"variable5\" records is 1.73%\n",
      "Percent of missing \"variable6\" \"variable7\" records is 1.78%\n",
      "Percent of missing \"variable14\" and \"variable17\" records is 2.70%\n"
     ]
    }
   ],
   "source": [
    "print_missing_precent(data)"
   ]
  },
  {
   "cell_type": "code",
   "execution_count": 10,
   "metadata": {},
   "outputs": [
    {
     "name": "stdout",
     "output_type": "stream",
     "text": [
      "Percent of missing \"variable1\" and \"\"variable2\"\" records is 1.50%\n",
      "Percent of missing \"variable4\" and \"variable5\" records is 1.00%\n",
      "Percent of missing \"variable6\" \"variable7\" records is 1.50%\n",
      "Percent of missing \"variable14\" and \"variable17\" records is 1.50%\n"
     ]
    }
   ],
   "source": [
    "print_missing_precent(v_data)"
   ]
  },
  {
   "cell_type": "markdown",
   "metadata": {},
   "source": [
    "Variables : 1 4 5 6 7 are String values , so we can just impute with thier max values."
   ]
  },
  {
   "cell_type": "code",
   "execution_count": 11,
   "metadata": {},
   "outputs": [
    {
     "name": "stdout",
     "output_type": "stream",
     "text": [
      " Values for variable1 (a , b ):\n",
      "b    2382\n",
      "a    1279\n",
      "Name: variable1, dtype: int64\n"
     ]
    },
    {
     "data": {
      "image/png": "[encoded data removed]",
      "text/plain": [
       "<Figure size 432x288 with 1 Axes>"
      ]
     },
     "metadata": {
      "needs_background": "light"
     },
     "output_type": "display_data"
    }
   ],
   "source": [
    "print(' Values for variable1 (a , b ):')\n",
    "print(data['variable1'].value_counts())\n",
    "sns.countplot(x='variable1', data=data, palette='Set2')\n",
    "plt.show()"
   ]
  },
  {
   "cell_type": "code",
   "execution_count": 12,
   "metadata": {},
   "outputs": [
    {
     "name": "stdout",
     "output_type": "stream",
     "text": [
      "The most common value in \"variable1\" is b.\n"
     ]
    }
   ],
   "source": [
    "print('The most common value in \"variable1\" is %s.' %data['variable1'].value_counts().idxmax())"
   ]
  },
  {
   "cell_type": "code",
   "execution_count": 13,
   "metadata": {},
   "outputs": [],
   "source": [
    "train_data = data.copy()\n",
    "validation_data = v_data.copy()"
   ]
  },
  {
   "cell_type": "code",
   "execution_count": 14,
   "metadata": {},
   "outputs": [],
   "source": [
    "def replace_missing_strings_v(final_data,data):\n",
    "    final_data[\"variable1\"].fillna(data['variable1'].value_counts().idxmax(), inplace=True)\n",
    "    final_data[\"variable4\"].fillna(data['variable4'].value_counts().idxmax(), inplace=True)\n",
    "    final_data[\"variable5\"].fillna(data['variable5'].value_counts().idxmax(), inplace=True)\n",
    "    final_data[\"variable6\"].fillna(data['variable6'].value_counts().idxmax(), inplace=True)\n",
    "    final_data[\"variable7\"].fillna(data['variable7'].value_counts().idxmax(), inplace=True)"
   ]
  },
  {
   "cell_type": "code",
   "execution_count": 15,
   "metadata": {},
   "outputs": [],
   "source": [
    "# training\n",
    "replace_missing_strings_v(train_data,data)"
   ]
  },
  {
   "cell_type": "code",
   "execution_count": 16,
   "metadata": {},
   "outputs": [],
   "source": [
    "# validation\n",
    "replace_missing_strings_v(validation_data,v_data)"
   ]
  },
  {
   "cell_type": "markdown",
   "metadata": {},
   "source": [
    "replace the numerical data with thier mean .. the missing values are not too much so its will not make a big diffrence. "
   ]
  },
  {
   "cell_type": "code",
   "execution_count": 17,
   "metadata": {},
   "outputs": [],
   "source": [
    "# Impute the missing values with mean imputation\n",
    "def replace_numerical(final_data,data):\n",
    "    final_data['variable2'].fillna(data['variable2'].mean(), inplace=True)\n",
    "    final_data['variable14'].fillna(data['variable14'].mean(), inplace=True)\n",
    "    final_data['variable17'].fillna(data['variable17'].mean(), inplace=True)"
   ]
  },
  {
   "cell_type": "code",
   "execution_count": 18,
   "metadata": {},
   "outputs": [],
   "source": [
    "replace_numerical(train_data,data)"
   ]
  },
  {
   "cell_type": "code",
   "execution_count": 19,
   "metadata": {},
   "outputs": [],
   "source": [
    "replace_numerical(validation_data,v_data)"
   ]
  },
  {
   "cell_type": "code",
   "execution_count": null,
   "metadata": {},
   "outputs": [],
   "source": []
  },
  {
   "cell_type": "markdown",
   "metadata": {},
   "source": [
    "## Normalization"
   ]
  },
  {
   "cell_type": "code",
   "execution_count": 20,
   "metadata": {},
   "outputs": [],
   "source": [
    "features_log_transformed = pd.DataFrame(data = train_data)"
   ]
  },
  {
   "cell_type": "code",
   "execution_count": 21,
   "metadata": {},
   "outputs": [
    {
     "data": {
      "text/html": [
       "<div>\n",
       "<style scoped>\n",
       "    .dataframe tbody tr th:only-of-type {\n",
       "        vertical-align: middle;\n",
       "    }\n",
       "\n",
       "    .dataframe tbody tr th {\n",
       "        vertical-align: top;\n",
       "    }\n",
       "\n",
       "    .dataframe thead th {\n",
       "        text-align: right;\n",
       "    }\n",
       "</style>\n",
       "<table border=\"1\" class=\"dataframe\">\n",
       "  <thead>\n",
       "    <tr style=\"text-align: right;\">\n",
       "      <th></th>\n",
       "      <th>variable1</th>\n",
       "      <th>variable2</th>\n",
       "      <th>variable3</th>\n",
       "      <th>variable4</th>\n",
       "      <th>variable5</th>\n",
       "      <th>variable6</th>\n",
       "      <th>variable7</th>\n",
       "      <th>variable8</th>\n",
       "      <th>variable9</th>\n",
       "      <th>variable10</th>\n",
       "      <th>variable11</th>\n",
       "      <th>variable12</th>\n",
       "      <th>variable13</th>\n",
       "      <th>variable14</th>\n",
       "      <th>variable15</th>\n",
       "      <th>variable17</th>\n",
       "      <th>variable19</th>\n",
       "    </tr>\n",
       "  </thead>\n",
       "  <tbody>\n",
       "    <tr>\n",
       "      <th>0</th>\n",
       "      <td>a</td>\n",
       "      <td>0.062707</td>\n",
       "      <td>0.019286</td>\n",
       "      <td>u</td>\n",
       "      <td>g</td>\n",
       "      <td>c</td>\n",
       "      <td>v</td>\n",
       "      <td>0.061404</td>\n",
       "      <td>f</td>\n",
       "      <td>t</td>\n",
       "      <td>1</td>\n",
       "      <td>t</td>\n",
       "      <td>g</td>\n",
       "      <td>0.068966</td>\n",
       "      <td>0.00005</td>\n",
       "      <td>0.068966</td>\n",
       "      <td>0.0</td>\n",
       "    </tr>\n",
       "    <tr>\n",
       "      <th>1</th>\n",
       "      <td>b</td>\n",
       "      <td>0.047669</td>\n",
       "      <td>0.011964</td>\n",
       "      <td>y</td>\n",
       "      <td>p</td>\n",
       "      <td>k</td>\n",
       "      <td>v</td>\n",
       "      <td>0.010175</td>\n",
       "      <td>f</td>\n",
       "      <td>f</td>\n",
       "      <td>0</td>\n",
       "      <td>f</td>\n",
       "      <td>s</td>\n",
       "      <td>0.172414</td>\n",
       "      <td>0.00000</td>\n",
       "      <td>0.172414</td>\n",
       "      <td>0.0</td>\n",
       "    </tr>\n",
       "    <tr>\n",
       "      <th>2</th>\n",
       "      <td>b</td>\n",
       "      <td>0.263158</td>\n",
       "      <td>0.040179</td>\n",
       "      <td>u</td>\n",
       "      <td>g</td>\n",
       "      <td>ff</td>\n",
       "      <td>ff</td>\n",
       "      <td>0.000000</td>\n",
       "      <td>f</td>\n",
       "      <td>t</td>\n",
       "      <td>1</td>\n",
       "      <td>f</td>\n",
       "      <td>g</td>\n",
       "      <td>0.082759</td>\n",
       "      <td>0.00019</td>\n",
       "      <td>0.082759</td>\n",
       "      <td>0.0</td>\n",
       "    </tr>\n",
       "    <tr>\n",
       "      <th>3</th>\n",
       "      <td>a</td>\n",
       "      <td>0.517594</td>\n",
       "      <td>0.047679</td>\n",
       "      <td>u</td>\n",
       "      <td>g</td>\n",
       "      <td>i</td>\n",
       "      <td>o</td>\n",
       "      <td>0.011754</td>\n",
       "      <td>f</td>\n",
       "      <td>f</td>\n",
       "      <td>0</td>\n",
       "      <td>f</td>\n",
       "      <td>g</td>\n",
       "      <td>0.000000</td>\n",
       "      <td>0.00120</td>\n",
       "      <td>0.000000</td>\n",
       "      <td>0.0</td>\n",
       "    </tr>\n",
       "    <tr>\n",
       "      <th>4</th>\n",
       "      <td>b</td>\n",
       "      <td>0.279398</td>\n",
       "      <td>0.125000</td>\n",
       "      <td>u</td>\n",
       "      <td>g</td>\n",
       "      <td>k</td>\n",
       "      <td>v</td>\n",
       "      <td>0.017544</td>\n",
       "      <td>f</td>\n",
       "      <td>f</td>\n",
       "      <td>0</td>\n",
       "      <td>t</td>\n",
       "      <td>g</td>\n",
       "      <td>0.200000</td>\n",
       "      <td>0.00000</td>\n",
       "      <td>0.200000</td>\n",
       "      <td>0.0</td>\n",
       "    </tr>\n",
       "  </tbody>\n",
       "</table>\n",
       "</div>"
      ],
      "text/plain": [
       "  variable1  variable2  variable3 variable4 variable5 variable6 variable7  \\\n",
       "0         a   0.062707   0.019286         u         g         c         v   \n",
       "1         b   0.047669   0.011964         y         p         k         v   \n",
       "2         b   0.263158   0.040179         u         g        ff        ff   \n",
       "3         a   0.517594   0.047679         u         g         i         o   \n",
       "4         b   0.279398   0.125000         u         g         k         v   \n",
       "\n",
       "   variable8 variable9 variable10  variable11 variable12 variable13  \\\n",
       "0   0.061404         f          t           1          t          g   \n",
       "1   0.010175         f          f           0          f          s   \n",
       "2   0.000000         f          t           1          f          g   \n",
       "3   0.011754         f          f           0          f          g   \n",
       "4   0.017544         f          f           0          t          g   \n",
       "\n",
       "   variable14  variable15  variable17  variable19  \n",
       "0    0.068966     0.00005    0.068966         0.0  \n",
       "1    0.172414     0.00000    0.172414         0.0  \n",
       "2    0.082759     0.00019    0.082759         0.0  \n",
       "3    0.000000     0.00120    0.000000         0.0  \n",
       "4    0.200000     0.00000    0.200000         0.0  "
      ]
     },
     "metadata": {},
     "output_type": "display_data"
    }
   ],
   "source": [
    "# Import sklearn.preprocessing.StandardScaler\n",
    "from sklearn.preprocessing import MinMaxScaler\n",
    "\n",
    "# Initialize a scaler, then apply it to the features\n",
    "scaler = MinMaxScaler() # default=(0, 1)\n",
    "numerical = ['variable2', 'variable3', 'variable8', 'variable14', 'variable15','variable17','variable19']\n",
    "\n",
    "features_log_minmax_transform = pd.DataFrame(data = features_log_transformed)\n",
    "features_log_minmax_transform[numerical] = scaler.fit_transform(features_log_transformed[numerical])\n",
    "\n",
    "# Show an example of a record with scaling applied\n",
    "display(features_log_minmax_transform.head(n = 5))"
   ]
  },
  {
   "cell_type": "code",
   "execution_count": 22,
   "metadata": {},
   "outputs": [],
   "source": [
    "vfeatures_log_transformed = pd.DataFrame(data = validation_data)"
   ]
  },
  {
   "cell_type": "code",
   "execution_count": 38,
   "metadata": {},
   "outputs": [
    {
     "data": {
      "text/html": [
       "<div>\n",
       "<style scoped>\n",
       "    .dataframe tbody tr th:only-of-type {\n",
       "        vertical-align: middle;\n",
       "    }\n",
       "\n",
       "    .dataframe tbody tr th {\n",
       "        vertical-align: top;\n",
       "    }\n",
       "\n",
       "    .dataframe thead th {\n",
       "        text-align: right;\n",
       "    }\n",
       "</style>\n",
       "<table border=\"1\" class=\"dataframe\">\n",
       "  <thead>\n",
       "    <tr style=\"text-align: right;\">\n",
       "      <th></th>\n",
       "      <th>variable1</th>\n",
       "      <th>variable2</th>\n",
       "      <th>variable3</th>\n",
       "      <th>variable4</th>\n",
       "      <th>variable5</th>\n",
       "      <th>variable6</th>\n",
       "      <th>variable7</th>\n",
       "      <th>variable8</th>\n",
       "      <th>variable9</th>\n",
       "      <th>variable10</th>\n",
       "      <th>variable11</th>\n",
       "      <th>variable12</th>\n",
       "      <th>variable13</th>\n",
       "      <th>variable14</th>\n",
       "      <th>variable15</th>\n",
       "      <th>variable17</th>\n",
       "      <th>variable19</th>\n",
       "    </tr>\n",
       "  </thead>\n",
       "  <tbody>\n",
       "    <tr>\n",
       "      <th>0</th>\n",
       "      <td>b</td>\n",
       "      <td>0.269768</td>\n",
       "      <td>0.298983</td>\n",
       "      <td>u</td>\n",
       "      <td>g</td>\n",
       "      <td>e</td>\n",
       "      <td>bb</td>\n",
       "      <td>0.07925</td>\n",
       "      <td>t</td>\n",
       "      <td>f</td>\n",
       "      <td>0</td>\n",
       "      <td>t</td>\n",
       "      <td>s</td>\n",
       "      <td>0.210</td>\n",
       "      <td>0.0000</td>\n",
       "      <td>0.210</td>\n",
       "      <td>1.0</td>\n",
       "    </tr>\n",
       "    <tr>\n",
       "      <th>1</th>\n",
       "      <td>b</td>\n",
       "      <td>0.125925</td>\n",
       "      <td>0.071357</td>\n",
       "      <td>u</td>\n",
       "      <td>g</td>\n",
       "      <td>c</td>\n",
       "      <td>v</td>\n",
       "      <td>0.02700</td>\n",
       "      <td>f</td>\n",
       "      <td>f</td>\n",
       "      <td>0</td>\n",
       "      <td>t</td>\n",
       "      <td>g</td>\n",
       "      <td>0.068</td>\n",
       "      <td>0.0001</td>\n",
       "      <td>0.068</td>\n",
       "      <td>0.0</td>\n",
       "    </tr>\n",
       "    <tr>\n",
       "      <th>2</th>\n",
       "      <td>b</td>\n",
       "      <td>0.337005</td>\n",
       "      <td>0.029898</td>\n",
       "      <td>y</td>\n",
       "      <td>p</td>\n",
       "      <td>d</td>\n",
       "      <td>v</td>\n",
       "      <td>0.02925</td>\n",
       "      <td>f</td>\n",
       "      <td>f</td>\n",
       "      <td>0</td>\n",
       "      <td>f</td>\n",
       "      <td>g</td>\n",
       "      <td>0.120</td>\n",
       "      <td>0.0003</td>\n",
       "      <td>0.120</td>\n",
       "      <td>1.0</td>\n",
       "    </tr>\n",
       "    <tr>\n",
       "      <th>3</th>\n",
       "      <td>b</td>\n",
       "      <td>0.041098</td>\n",
       "      <td>0.415188</td>\n",
       "      <td>y</td>\n",
       "      <td>p</td>\n",
       "      <td>aa</td>\n",
       "      <td>v</td>\n",
       "      <td>0.00625</td>\n",
       "      <td>t</td>\n",
       "      <td>f</td>\n",
       "      <td>0</td>\n",
       "      <td>f</td>\n",
       "      <td>g</td>\n",
       "      <td>0.060</td>\n",
       "      <td>0.0375</td>\n",
       "      <td>0.060</td>\n",
       "      <td>0.0</td>\n",
       "    </tr>\n",
       "    <tr>\n",
       "      <th>4</th>\n",
       "      <td>b</td>\n",
       "      <td>0.141049</td>\n",
       "      <td>0.531593</td>\n",
       "      <td>y</td>\n",
       "      <td>p</td>\n",
       "      <td>aa</td>\n",
       "      <td>v</td>\n",
       "      <td>0.00200</td>\n",
       "      <td>f</td>\n",
       "      <td>f</td>\n",
       "      <td>0</td>\n",
       "      <td>t</td>\n",
       "      <td>g</td>\n",
       "      <td>0.060</td>\n",
       "      <td>0.0475</td>\n",
       "      <td>0.060</td>\n",
       "      <td>1.0</td>\n",
       "    </tr>\n",
       "  </tbody>\n",
       "</table>\n",
       "</div>"
      ],
      "text/plain": [
       "  variable1  variable2  variable3 variable4 variable5 variable6 variable7  \\\n",
       "0         b   0.269768   0.298983         u         g         e        bb   \n",
       "1         b   0.125925   0.071357         u         g         c         v   \n",
       "2         b   0.337005   0.029898         y         p         d         v   \n",
       "3         b   0.041098   0.415188         y         p        aa         v   \n",
       "4         b   0.141049   0.531593         y         p        aa         v   \n",
       "\n",
       "   variable8 variable9 variable10  variable11 variable12 variable13  \\\n",
       "0    0.07925         t          f           0          t          s   \n",
       "1    0.02700         f          f           0          t          g   \n",
       "2    0.02925         f          f           0          f          g   \n",
       "3    0.00625         t          f           0          f          g   \n",
       "4    0.00200         f          f           0          t          g   \n",
       "\n",
       "   variable14  variable15  variable17  variable19  \n",
       "0       0.210      0.0000       0.210         1.0  \n",
       "1       0.068      0.0001       0.068         0.0  \n",
       "2       0.120      0.0003       0.120         1.0  \n",
       "3       0.060      0.0375       0.060         0.0  \n",
       "4       0.060      0.0475       0.060         1.0  "
      ]
     },
     "metadata": {},
     "output_type": "display_data"
    }
   ],
   "source": [
    "# Import sklearn.preprocessing.StandardScaler\n",
    "from sklearn.preprocessing import MinMaxScaler\n",
    "\n",
    "# Initialize a scaler, then apply it to the features\n",
    "scaler = MinMaxScaler() # default=(0, 1)\n",
    "numerical = ['variable2', 'variable3', 'variable8', 'variable14', 'variable15','variable17','variable19']\n",
    "\n",
    "vfeatures_log_minmax_transform = pd.DataFrame(data = vfeatures_log_transformed)\n",
    "vfeatures_log_minmax_transform[numerical] = scaler.fit_transform(vfeatures_log_transformed[numerical])\n",
    "\n",
    "# Show an example of a record with scaling applied\n",
    "display(vfeatures_log_minmax_transform.head(n = 5))"
   ]
  },
  {
   "cell_type": "markdown",
   "metadata": {},
   "source": [
    "## encoding"
   ]
  },
  {
   "cell_type": "code",
   "execution_count": 24,
   "metadata": {},
   "outputs": [
    {
     "name": "stdout",
     "output_type": "stream",
     "text": [
      "48 total features after one-hot encoding.\n"
     ]
    },
    {
     "data": {
      "text/html": [
       "<div>\n",
       "<style scoped>\n",
       "    .dataframe tbody tr th:only-of-type {\n",
       "        vertical-align: middle;\n",
       "    }\n",
       "\n",
       "    .dataframe tbody tr th {\n",
       "        vertical-align: top;\n",
       "    }\n",
       "\n",
       "    .dataframe thead th {\n",
       "        text-align: right;\n",
       "    }\n",
       "</style>\n",
       "<table border=\"1\" class=\"dataframe\">\n",
       "  <thead>\n",
       "    <tr style=\"text-align: right;\">\n",
       "      <th></th>\n",
       "      <th>variable2</th>\n",
       "      <th>variable3</th>\n",
       "      <th>variable8</th>\n",
       "      <th>variable11</th>\n",
       "      <th>variable14</th>\n",
       "      <th>variable15</th>\n",
       "      <th>variable17</th>\n",
       "      <th>variable19</th>\n",
       "      <th>variable1_a</th>\n",
       "      <th>variable1_b</th>\n",
       "      <th>...</th>\n",
       "      <th>variable7_z</th>\n",
       "      <th>variable9_f</th>\n",
       "      <th>variable9_t</th>\n",
       "      <th>variable10_f</th>\n",
       "      <th>variable10_t</th>\n",
       "      <th>variable12_f</th>\n",
       "      <th>variable12_t</th>\n",
       "      <th>variable13_g</th>\n",
       "      <th>variable13_p</th>\n",
       "      <th>variable13_s</th>\n",
       "    </tr>\n",
       "  </thead>\n",
       "  <tbody>\n",
       "    <tr>\n",
       "      <th>0</th>\n",
       "      <td>0.062707</td>\n",
       "      <td>0.019286</td>\n",
       "      <td>0.061404</td>\n",
       "      <td>1</td>\n",
       "      <td>0.068966</td>\n",
       "      <td>0.00005</td>\n",
       "      <td>0.068966</td>\n",
       "      <td>0.0</td>\n",
       "      <td>1</td>\n",
       "      <td>0</td>\n",
       "      <td>...</td>\n",
       "      <td>0</td>\n",
       "      <td>1</td>\n",
       "      <td>0</td>\n",
       "      <td>0</td>\n",
       "      <td>1</td>\n",
       "      <td>0</td>\n",
       "      <td>1</td>\n",
       "      <td>1</td>\n",
       "      <td>0</td>\n",
       "      <td>0</td>\n",
       "    </tr>\n",
       "    <tr>\n",
       "      <th>1</th>\n",
       "      <td>0.047669</td>\n",
       "      <td>0.011964</td>\n",
       "      <td>0.010175</td>\n",
       "      <td>0</td>\n",
       "      <td>0.172414</td>\n",
       "      <td>0.00000</td>\n",
       "      <td>0.172414</td>\n",
       "      <td>0.0</td>\n",
       "      <td>0</td>\n",
       "      <td>1</td>\n",
       "      <td>...</td>\n",
       "      <td>0</td>\n",
       "      <td>1</td>\n",
       "      <td>0</td>\n",
       "      <td>1</td>\n",
       "      <td>0</td>\n",
       "      <td>1</td>\n",
       "      <td>0</td>\n",
       "      <td>0</td>\n",
       "      <td>0</td>\n",
       "      <td>1</td>\n",
       "    </tr>\n",
       "    <tr>\n",
       "      <th>2</th>\n",
       "      <td>0.263158</td>\n",
       "      <td>0.040179</td>\n",
       "      <td>0.000000</td>\n",
       "      <td>1</td>\n",
       "      <td>0.082759</td>\n",
       "      <td>0.00019</td>\n",
       "      <td>0.082759</td>\n",
       "      <td>0.0</td>\n",
       "      <td>0</td>\n",
       "      <td>1</td>\n",
       "      <td>...</td>\n",
       "      <td>0</td>\n",
       "      <td>1</td>\n",
       "      <td>0</td>\n",
       "      <td>0</td>\n",
       "      <td>1</td>\n",
       "      <td>1</td>\n",
       "      <td>0</td>\n",
       "      <td>1</td>\n",
       "      <td>0</td>\n",
       "      <td>0</td>\n",
       "    </tr>\n",
       "    <tr>\n",
       "      <th>3</th>\n",
       "      <td>0.517594</td>\n",
       "      <td>0.047679</td>\n",
       "      <td>0.011754</td>\n",
       "      <td>0</td>\n",
       "      <td>0.000000</td>\n",
       "      <td>0.00120</td>\n",
       "      <td>0.000000</td>\n",
       "      <td>0.0</td>\n",
       "      <td>1</td>\n",
       "      <td>0</td>\n",
       "      <td>...</td>\n",
       "      <td>0</td>\n",
       "      <td>1</td>\n",
       "      <td>0</td>\n",
       "      <td>1</td>\n",
       "      <td>0</td>\n",
       "      <td>1</td>\n",
       "      <td>0</td>\n",
       "      <td>1</td>\n",
       "      <td>0</td>\n",
       "      <td>0</td>\n",
       "    </tr>\n",
       "    <tr>\n",
       "      <th>4</th>\n",
       "      <td>0.279398</td>\n",
       "      <td>0.125000</td>\n",
       "      <td>0.017544</td>\n",
       "      <td>0</td>\n",
       "      <td>0.200000</td>\n",
       "      <td>0.00000</td>\n",
       "      <td>0.200000</td>\n",
       "      <td>0.0</td>\n",
       "      <td>0</td>\n",
       "      <td>1</td>\n",
       "      <td>...</td>\n",
       "      <td>0</td>\n",
       "      <td>1</td>\n",
       "      <td>0</td>\n",
       "      <td>1</td>\n",
       "      <td>0</td>\n",
       "      <td>0</td>\n",
       "      <td>1</td>\n",
       "      <td>1</td>\n",
       "      <td>0</td>\n",
       "      <td>0</td>\n",
       "    </tr>\n",
       "  </tbody>\n",
       "</table>\n",
       "<p>5 rows × 48 columns</p>\n",
       "</div>"
      ],
      "text/plain": [
       "   variable2  variable3  variable8  variable11  variable14  variable15  \\\n",
       "0   0.062707   0.019286   0.061404           1    0.068966     0.00005   \n",
       "1   0.047669   0.011964   0.010175           0    0.172414     0.00000   \n",
       "2   0.263158   0.040179   0.000000           1    0.082759     0.00019   \n",
       "3   0.517594   0.047679   0.011754           0    0.000000     0.00120   \n",
       "4   0.279398   0.125000   0.017544           0    0.200000     0.00000   \n",
       "\n",
       "   variable17  variable19  variable1_a  variable1_b  ...  variable7_z  \\\n",
       "0    0.068966         0.0            1            0  ...            0   \n",
       "1    0.172414         0.0            0            1  ...            0   \n",
       "2    0.082759         0.0            0            1  ...            0   \n",
       "3    0.000000         0.0            1            0  ...            0   \n",
       "4    0.200000         0.0            0            1  ...            0   \n",
       "\n",
       "   variable9_f  variable9_t  variable10_f  variable10_t  variable12_f  \\\n",
       "0            1            0             0             1             0   \n",
       "1            1            0             1             0             1   \n",
       "2            1            0             0             1             1   \n",
       "3            1            0             1             0             1   \n",
       "4            1            0             1             0             0   \n",
       "\n",
       "   variable12_t  variable13_g  variable13_p  variable13_s  \n",
       "0             1             1             0             0  \n",
       "1             0             0             0             1  \n",
       "2             0             1             0             0  \n",
       "3             0             1             0             0  \n",
       "4             1             1             0             0  \n",
       "\n",
       "[5 rows x 48 columns]"
      ]
     },
     "execution_count": 24,
     "metadata": {},
     "output_type": "execute_result"
    }
   ],
   "source": [
    "# TODO: One-hot encode the 'features_log_minmax_transform' data using pandas.get_dummies()\n",
    "data_final = pd.get_dummies(features_log_minmax_transform)\n",
    "\n",
    "\n",
    "# Print the number of features after one-hot encoding\n",
    "encoded = list(data_final.columns)\n",
    "print(\"{} total features after one-hot encoding.\".format(len(encoded)))\n",
    "\n",
    "# Uncomment the following line to see the encoded feature names\n",
    "data_final.head()"
   ]
  },
  {
   "cell_type": "code",
   "execution_count": 25,
   "metadata": {},
   "outputs": [
    {
     "name": "stdout",
     "output_type": "stream",
     "text": [
      "44 total features after one-hot encoding.\n"
     ]
    },
    {
     "data": {
      "text/html": [
       "<div>\n",
       "<style scoped>\n",
       "    .dataframe tbody tr th:only-of-type {\n",
       "        vertical-align: middle;\n",
       "    }\n",
       "\n",
       "    .dataframe tbody tr th {\n",
       "        vertical-align: top;\n",
       "    }\n",
       "\n",
       "    .dataframe thead th {\n",
       "        text-align: right;\n",
       "    }\n",
       "</style>\n",
       "<table border=\"1\" class=\"dataframe\">\n",
       "  <thead>\n",
       "    <tr style=\"text-align: right;\">\n",
       "      <th></th>\n",
       "      <th>variable2</th>\n",
       "      <th>variable3</th>\n",
       "      <th>variable8</th>\n",
       "      <th>variable11</th>\n",
       "      <th>variable14</th>\n",
       "      <th>variable15</th>\n",
       "      <th>variable17</th>\n",
       "      <th>variable19</th>\n",
       "      <th>variable1_a</th>\n",
       "      <th>variable1_b</th>\n",
       "      <th>...</th>\n",
       "      <th>variable7_z</th>\n",
       "      <th>variable9_f</th>\n",
       "      <th>variable9_t</th>\n",
       "      <th>variable10_f</th>\n",
       "      <th>variable10_t</th>\n",
       "      <th>variable12_f</th>\n",
       "      <th>variable12_t</th>\n",
       "      <th>variable13_g</th>\n",
       "      <th>variable13_p</th>\n",
       "      <th>variable13_s</th>\n",
       "    </tr>\n",
       "  </thead>\n",
       "  <tbody>\n",
       "    <tr>\n",
       "      <th>0</th>\n",
       "      <td>0.269768</td>\n",
       "      <td>0.298983</td>\n",
       "      <td>0.07925</td>\n",
       "      <td>0</td>\n",
       "      <td>0.210</td>\n",
       "      <td>0.0000</td>\n",
       "      <td>0.210</td>\n",
       "      <td>1.0</td>\n",
       "      <td>0</td>\n",
       "      <td>1</td>\n",
       "      <td>...</td>\n",
       "      <td>0</td>\n",
       "      <td>0</td>\n",
       "      <td>1</td>\n",
       "      <td>1</td>\n",
       "      <td>0</td>\n",
       "      <td>0</td>\n",
       "      <td>1</td>\n",
       "      <td>0</td>\n",
       "      <td>0</td>\n",
       "      <td>1</td>\n",
       "    </tr>\n",
       "    <tr>\n",
       "      <th>1</th>\n",
       "      <td>0.125925</td>\n",
       "      <td>0.071357</td>\n",
       "      <td>0.02700</td>\n",
       "      <td>0</td>\n",
       "      <td>0.068</td>\n",
       "      <td>0.0001</td>\n",
       "      <td>0.068</td>\n",
       "      <td>0.0</td>\n",
       "      <td>0</td>\n",
       "      <td>1</td>\n",
       "      <td>...</td>\n",
       "      <td>0</td>\n",
       "      <td>1</td>\n",
       "      <td>0</td>\n",
       "      <td>1</td>\n",
       "      <td>0</td>\n",
       "      <td>0</td>\n",
       "      <td>1</td>\n",
       "      <td>1</td>\n",
       "      <td>0</td>\n",
       "      <td>0</td>\n",
       "    </tr>\n",
       "    <tr>\n",
       "      <th>2</th>\n",
       "      <td>0.337005</td>\n",
       "      <td>0.029898</td>\n",
       "      <td>0.02925</td>\n",
       "      <td>0</td>\n",
       "      <td>0.120</td>\n",
       "      <td>0.0003</td>\n",
       "      <td>0.120</td>\n",
       "      <td>1.0</td>\n",
       "      <td>0</td>\n",
       "      <td>1</td>\n",
       "      <td>...</td>\n",
       "      <td>0</td>\n",
       "      <td>1</td>\n",
       "      <td>0</td>\n",
       "      <td>1</td>\n",
       "      <td>0</td>\n",
       "      <td>1</td>\n",
       "      <td>0</td>\n",
       "      <td>1</td>\n",
       "      <td>0</td>\n",
       "      <td>0</td>\n",
       "    </tr>\n",
       "    <tr>\n",
       "      <th>3</th>\n",
       "      <td>0.041098</td>\n",
       "      <td>0.415188</td>\n",
       "      <td>0.00625</td>\n",
       "      <td>0</td>\n",
       "      <td>0.060</td>\n",
       "      <td>0.0375</td>\n",
       "      <td>0.060</td>\n",
       "      <td>0.0</td>\n",
       "      <td>0</td>\n",
       "      <td>1</td>\n",
       "      <td>...</td>\n",
       "      <td>0</td>\n",
       "      <td>0</td>\n",
       "      <td>1</td>\n",
       "      <td>1</td>\n",
       "      <td>0</td>\n",
       "      <td>1</td>\n",
       "      <td>0</td>\n",
       "      <td>1</td>\n",
       "      <td>0</td>\n",
       "      <td>0</td>\n",
       "    </tr>\n",
       "    <tr>\n",
       "      <th>4</th>\n",
       "      <td>0.141049</td>\n",
       "      <td>0.531593</td>\n",
       "      <td>0.00200</td>\n",
       "      <td>0</td>\n",
       "      <td>0.060</td>\n",
       "      <td>0.0475</td>\n",
       "      <td>0.060</td>\n",
       "      <td>1.0</td>\n",
       "      <td>0</td>\n",
       "      <td>1</td>\n",
       "      <td>...</td>\n",
       "      <td>0</td>\n",
       "      <td>1</td>\n",
       "      <td>0</td>\n",
       "      <td>1</td>\n",
       "      <td>0</td>\n",
       "      <td>0</td>\n",
       "      <td>1</td>\n",
       "      <td>1</td>\n",
       "      <td>0</td>\n",
       "      <td>0</td>\n",
       "    </tr>\n",
       "  </tbody>\n",
       "</table>\n",
       "<p>5 rows × 44 columns</p>\n",
       "</div>"
      ],
      "text/plain": [
       "   variable2  variable3  variable8  variable11  variable14  variable15  \\\n",
       "0   0.269768   0.298983    0.07925           0       0.210      0.0000   \n",
       "1   0.125925   0.071357    0.02700           0       0.068      0.0001   \n",
       "2   0.337005   0.029898    0.02925           0       0.120      0.0003   \n",
       "3   0.041098   0.415188    0.00625           0       0.060      0.0375   \n",
       "4   0.141049   0.531593    0.00200           0       0.060      0.0475   \n",
       "\n",
       "   variable17  variable19  variable1_a  variable1_b  ...  variable7_z  \\\n",
       "0       0.210         1.0            0            1  ...            0   \n",
       "1       0.068         0.0            0            1  ...            0   \n",
       "2       0.120         1.0            0            1  ...            0   \n",
       "3       0.060         0.0            0            1  ...            0   \n",
       "4       0.060         1.0            0            1  ...            0   \n",
       "\n",
       "   variable9_f  variable9_t  variable10_f  variable10_t  variable12_f  \\\n",
       "0            0            1             1             0             0   \n",
       "1            1            0             1             0             0   \n",
       "2            1            0             1             0             1   \n",
       "3            0            1             1             0             1   \n",
       "4            1            0             1             0             0   \n",
       "\n",
       "   variable12_t  variable13_g  variable13_p  variable13_s  \n",
       "0             1             0             0             1  \n",
       "1             1             1             0             0  \n",
       "2             0             1             0             0  \n",
       "3             0             1             0             0  \n",
       "4             1             1             0             0  \n",
       "\n",
       "[5 rows x 44 columns]"
      ]
     },
     "execution_count": 25,
     "metadata": {},
     "output_type": "execute_result"
    }
   ],
   "source": [
    "# TODO: One-hot encode the 'features_log_minmax_transform' data using pandas.get_dummies()\n",
    "v_final = pd.get_dummies(vfeatures_log_minmax_transform)\n",
    "\n",
    "\n",
    "# Print the number of features after one-hot encoding\n",
    "encoded = list(v_final.columns)\n",
    "print(\"{} total features after one-hot encoding.\".format(len(encoded)))\n",
    "\n",
    "# Uncomment the following line to see the encoded feature names\n",
    "v_final.head()"
   ]
  },
  {
   "cell_type": "code",
   "execution_count": 27,
   "metadata": {},
   "outputs": [
    {
     "name": "stdout",
     "output_type": "stream",
     "text": [
      "Training set has 2590 samples.\n",
      "Testing set has 1110 samples.\n"
     ]
    }
   ],
   "source": [
    "# Import train_test_split\n",
    "from sklearn.model_selection import train_test_split\n",
    "\n",
    "# Split the 'features' and 'income' data into training and testing sets\n",
    "X_train, X_test, y_train, y_test = train_test_split(data_final, \n",
    "                                                    target_raw, \n",
    "                                                    test_size = 0.3, \n",
    "                                                    random_state = 20)\n",
    "\n",
    "# Show the results of the split\n",
    "print(\"Training set has {} samples.\".format(X_train.shape[0]))\n",
    "print(\"Testing set has {} samples.\".format(X_test.shape[0]))"
   ]
  },
  {
   "cell_type": "code",
   "execution_count": 28,
   "metadata": {},
   "outputs": [
    {
     "data": {
      "text/plain": [
       "LogisticRegression(C=1.0, class_weight=None, dual=False, fit_intercept=True,\n",
       "                   intercept_scaling=1, l1_ratio=None, max_iter=100,\n",
       "                   multi_class='warn', n_jobs=None, penalty='l2',\n",
       "                   random_state=None, solver='warn', tol=0.0001, verbose=0,\n",
       "                   warm_start=False)"
      ]
     },
     "execution_count": 28,
     "metadata": {},
     "output_type": "execute_result"
    }
   ],
   "source": [
    "logreg = LogisticRegression()\n",
    "\n",
    "# Fit logreg to the train set\n",
    "logreg.fit(X_train,y_train)"
   ]
  },
  {
   "cell_type": "code",
   "execution_count": 33,
   "metadata": {},
   "outputs": [
    {
     "name": "stdout",
     "output_type": "stream",
     "text": [
      "Accuracy of logistic regression classifier:  1.0\n",
      "[[  79    0]\n",
      " [   0 1031]]\n"
     ]
    }
   ],
   "source": [
    "y_pred = logreg.predict(X_test)\n",
    "\n",
    "# Get the accuracy score of logreg model and print it\n",
    "print(\"Accuracy of logistic regression classifier: \",logreg.score(X_test,y_test))\n",
    "\n",
    "# Print the confusion matrix of the logreg model\n",
    "\n",
    "print(confusion_matrix(y_test,y_pred))"
   ]
  },
  {
   "cell_type": "code",
   "execution_count": 36,
   "metadata": {},
   "outputs": [],
   "source": [
    "# Define the grid of values for tol and max_iter\n",
    "tol = [0.01,0.001,0.0001]\n",
    "max_iter = [100,150,200]\n",
    "\n",
    "# Create a dictionary where tol and max_iter are keys and the lists of their values are corresponding values\n",
    "param_grid = dict(tol=tol, max_iter=max_iter)"
   ]
  },
  {
   "cell_type": "code",
   "execution_count": 37,
   "metadata": {},
   "outputs": [
    {
     "name": "stdout",
     "output_type": "stream",
     "text": [
      "Best: 1.000000 using {'max_iter': 100, 'tol': 0.01}\n"
     ]
    }
   ],
   "source": [
    "# Instantiate GridSearchCV with the required parameters\n",
    "grid_model = GridSearchCV(estimator=logreg, param_grid=param_grid, cv=5)\n",
    "\n",
    "# Fit data to grid_model\n",
    "grid_model_result = grid_model.fit(data_final,target_raw)\n",
    "\n",
    "# Summarize results\n",
    "best_score, best_params = grid_model_result.best_score_,grid_model_result.best_params_\n",
    "print(\"Best: %f using %s\" % (best_score, best_params))"
   ]
  }
 ],
 "metadata": {
  "kernelspec": {
   "display_name": "Python 3",
   "language": "python",
   "name": "python3"
  },
  "language_info": {
   "codemirror_mode": {
    "name": "ipython",
    "version": 3
   },
   "file_extension": ".py",
   "mimetype": "text/x-python",
   "name": "python",
   "nbconvert_exporter": "python",
   "pygments_lexer": "ipython3",
   "version": "3.6.9"
  }
 },
 "nbformat": 4,
 "nbformat_minor": 2
}
